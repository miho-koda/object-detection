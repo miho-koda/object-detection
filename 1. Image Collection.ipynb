{
 "cells": [
  {
   "cell_type": "markdown",
   "metadata": {},
   "source": [
    "# 1. Import Dependencies"
   ]
  },
  {
   "cell_type": "code",
   "execution_count": 2,
   "metadata": {},
   "outputs": [
    {
     "name": "stdout",
     "output_type": "stream",
     "text": [
      "Requirement already satisfied: opencv-python in ./tfod/lib/python3.9/site-packages (4.9.0.80)\r\n",
      "Requirement already satisfied: numpy>=1.21.0 in ./tfod/lib/python3.9/site-packages (from opencv-python) (1.26.4)\r\n"
     ]
    }
   ],
   "source": [
    "!pip install opencv-python"
   ]
  },
  {
   "cell_type": "code",
   "execution_count": 3,
   "metadata": {},
   "outputs": [],
   "source": [
    "# Import opencv\n",
    "import cv2 \n",
    "\n",
    "# Import uuid\n",
    "import uuid\n",
    "\n",
    "# Import Operating System\n",
    "import os\n",
    "\n",
    "# Import time\n",
    "import time"
   ]
  },
  {
   "cell_type": "markdown",
   "metadata": {},
   "source": [
    "# 2. Define Images to Collect\n",
    "我们一共train 4 个classified的手势，每个手势有5张图"
   ]
  },
  {
   "cell_type": "code",
   "execution_count": 4,
   "metadata": {},
   "outputs": [],
   "source": [
    "labels = ['thumbsup', 'thumbsdown', 'thankyou', 'livelong']\n",
    "number_imgs = 5"
   ]
  },
  {
   "cell_type": "code",
   "execution_count": 5,
   "metadata": {},
   "outputs": [
    {
     "data": {
      "text/plain": [
       "['thumbsup', 'thumbsdown', 'thankyou', 'livelong']"
      ]
     },
     "execution_count": 5,
     "metadata": {},
     "output_type": "execute_result"
    }
   ],
   "source": [
    "labels"
   ]
  },
  {
   "cell_type": "markdown",
   "metadata": {},
   "source": [
    "# 3. Setup Folders "
   ]
  },
  {
   "cell_type": "code",
   "execution_count": 6,
   "metadata": {},
   "outputs": [
    {
     "name": "stdout",
     "output_type": "stream",
     "text": [
      "Tensorflow/workspace/images/collectedimages\n"
     ]
    }
   ],
   "source": [
    "#just path to folder directory\n",
    "IMAGES_PATH = os.path.join('Tensorflow', 'workspace', 'images', 'collectedimages')\n",
    "print(IMAGES_PATH)"
   ]
  },
  {
   "cell_type": "code",
   "execution_count": 7,
   "metadata": {},
   "outputs": [],
   "source": [
    "if not os.path.exists(IMAGES_PATH):\n",
    "    if os.name == 'posix': #checks if linux or MaxOS\n",
    "        !mkdir -p {IMAGES_PATH}\n",
    "    if os.name == 'nt': #checks if windows\n",
    "         !mkdir {IMAGES_PATH}\n",
    "for label in labels:\n",
    "    path = os.path.join(IMAGES_PATH, label) #combine label and form a full directoary path\n",
    "    if not os.path.exists(path): \n",
    "        !mkdir {path} #make that folder"
   ]
  },
  {
   "cell_type": "markdown",
   "metadata": {},
   "source": [
    "# 4. Capture Images"
   ]
  },
  {
   "cell_type": "code",
   "execution_count": 8,
   "metadata": {},
   "outputs": [
    {
     "name": "stdout",
     "output_type": "stream",
     "text": [
      "Collecting images for thumbsup\n"
     ]
    },
    {
     "ename": "KeyboardInterrupt",
     "evalue": "",
     "output_type": "error",
     "traceback": [
      "\u001b[0;31m---------------------------------------------------------------------------\u001b[0m",
      "\u001b[0;31mKeyboardInterrupt\u001b[0m                         Traceback (most recent call last)",
      "Cell \u001b[0;32mIn [8], line 4\u001b[0m\n\u001b[1;32m      2\u001b[0m cap \u001b[38;5;241m=\u001b[39m cv2\u001b[38;5;241m.\u001b[39mVideoCapture(\u001b[38;5;241m0\u001b[39m) \u001b[38;5;66;03m#connect to webcam\u001b[39;00m\n\u001b[1;32m      3\u001b[0m \u001b[38;5;28mprint\u001b[39m(\u001b[38;5;124m'\u001b[39m\u001b[38;5;124mCollecting images for \u001b[39m\u001b[38;5;132;01m{}\u001b[39;00m\u001b[38;5;124m'\u001b[39m\u001b[38;5;241m.\u001b[39mformat(label)) \n\u001b[0;32m----> 4\u001b[0m \u001b[43mtime\u001b[49m\u001b[38;5;241;43m.\u001b[39;49m\u001b[43msleep\u001b[49m\u001b[43m(\u001b[49m\u001b[38;5;241;43m5\u001b[39;49m\u001b[43m)\u001b[49m\n\u001b[1;32m      5\u001b[0m \u001b[38;5;28;01mfor\u001b[39;00m imgnum \u001b[38;5;129;01min\u001b[39;00m \u001b[38;5;28mrange\u001b[39m(number_imgs): \u001b[38;5;66;03m#each iteration here, captures 1 image for label\u001b[39;00m\n\u001b[1;32m      6\u001b[0m     \u001b[38;5;28mprint\u001b[39m(\u001b[38;5;124m'\u001b[39m\u001b[38;5;124mCollecting image \u001b[39m\u001b[38;5;132;01m{}\u001b[39;00m\u001b[38;5;124m'\u001b[39m\u001b[38;5;241m.\u001b[39mformat(imgnum))\n",
      "\u001b[0;31mKeyboardInterrupt\u001b[0m: "
     ]
    }
   ],
   "source": [
    "for label in labels:\n",
    "    cap = cv2.VideoCapture(0) #connect to webcam\n",
    "    print('Collecting images for {}'.format(label)) \n",
    "    time.sleep(5)\n",
    "    for imgnum in range(number_imgs): #each iteration here, captures 1 image for label\n",
    "        print('Collecting image {}'.format(imgnum))\n",
    "        ret, frame = cap.read() #cap.read() captures frame from webcame, ret = T/F for correct reading, frame = actual image\n",
    "        imgname = os.path.join(IMAGES_PATH,label,label+'.'+'{}.jpg'.format(str(uuid.uuid1()))) #create unique filename\n",
    "        cv2.imwrite(imgname, frame) #save into the filename \n",
    "        cv2.imshow('frame', frame) #display\n",
    "        time.sleep(2)\n",
    "\n",
    "        if cv2.waitKey(1) & 0xFF == ord('q'):\n",
    "            break\n",
    "cap.release() #release camera\n",
    "cv2.destroyAllWindows() #close cv2 windows"
   ]
  },
  {
   "cell_type": "markdown",
   "metadata": {},
   "source": [
    "# 5. Image Labelling"
   ]
  },
  {
   "cell_type": "code",
   "execution_count": 9,
   "metadata": {},
   "outputs": [
    {
     "name": "stdout",
     "output_type": "stream",
     "text": [
      "Requirement already satisfied: pyqt5 in ./tfod/lib/python3.9/site-packages (5.15.10)\n",
      "Requirement already satisfied: lxml in ./tfod/lib/python3.9/site-packages (5.2.2)\n",
      "Requirement already satisfied: PyQt5-sip<13,>=12.13 in ./tfod/lib/python3.9/site-packages (from pyqt5) (12.13.0)\n",
      "Requirement already satisfied: PyQt5-Qt5>=5.15.2 in ./tfod/lib/python3.9/site-packages (from pyqt5) (5.15.14)\n"
     ]
    }
   ],
   "source": [
    "!pip install --upgrade pyqt5 lxml"
   ]
  },
  {
   "cell_type": "code",
   "execution_count": 10,
   "metadata": {},
   "outputs": [],
   "source": [
    "LABELIMG_PATH = os.path.join('Tensorflow', 'labelimg') #create new labeling path"
   ]
  },
  {
   "cell_type": "code",
   "execution_count": 11,
   "metadata": {},
   "outputs": [],
   "source": [
    "if not os.path.exists(LABELIMG_PATH):\n",
    "    !mkdir {LABELIMG_PATH} #make the folder\n",
    "    !git clone https://github.com/tzutalin/labelImg {LABELIMG_PATH} #put the git in"
   ]
  },
  {
   "cell_type": "code",
   "execution_count": 12,
   "metadata": {},
   "outputs": [
    {
     "name": "stdout",
     "output_type": "stream",
     "text": [
      "pyrcc5 -o libs/resources.py resources.qrc\r\n"
     ]
    }
   ],
   "source": [
    "if os.name == 'posix': #open up the git we just cloned\n",
    "    !cd {LABELIMG_PATH} && make qt5py3\n",
    "if os.name =='nt':\n",
    "    !cd {LABELIMG_PATH} && pyrcc5 -o libs/resources.py resources.qrc"
   ]
  },
  {
   "cell_type": "code",
   "execution_count": null,
   "metadata": {},
   "outputs": [
    {
     "name": "stdout",
     "output_type": "stream",
     "text": [
      "2024-06-01 10:15:42.503 python[83793:9225743] +[CATransaction synchronize] called within transaction\n",
      "Cancel creation.\n",
      "Image:/Users/mihokoda/Desktop/Github/Objec Detection/Tensorflow/workspace/images/collectedimages/thankyou/360_F_417983532_As0YVtawgkjfN0oLbgyx2Aq62alrhrKi.jpg -> Annotation:/Users/mihokoda/Desktop/Github/Objec Detection/Tensorflow/workspace/images/collectedimages/thankyou/360_F_417983532_As0YVtawgkjfN0oLbgyx2Aq62alrhrKi.xml\n",
      "Cancel creation.\n",
      "Image:/Users/mihokoda/Desktop/Github/Objec Detection/Tensorflow/workspace/images/collectedimages/thankyou/An_Oberoi_Hotel_employee_doing_Namaste,_New_Delhi.jpg -> Annotation:/Users/mihokoda/Desktop/Github/Objec Detection/Tensorflow/workspace/images/collectedimages/thankyou/An_Oberoi_Hotel_employee_doing_Namaste,_New_Delhi.xml\n",
      "Image:/Users/mihokoda/Desktop/Github/Objec Detection/Tensorflow/workspace/images/collectedimages/thankyou/images-1.jpg -> Annotation:/Users/mihokoda/Desktop/Github/Objec Detection/Tensorflow/workspace/images/collectedimages/thankyou/images-1.xml\n",
      "Image:/Users/mihokoda/Desktop/Github/Objec Detection/Tensorflow/workspace/images/collectedimages/thankyou/images.jpg -> Annotation:/Users/mihokoda/Desktop/Github/Objec Detection/Tensorflow/workspace/images/collectedimages/thankyou/images.xml\n",
      "Image:/Users/mihokoda/Desktop/Github/Objec Detection/Tensorflow/workspace/images/collectedimages/thankyou/portrait-of-friendly-and-polite-asian-blond-guy-clasp-hands-together-in-namaste-gesture-bowing-and-greeting-person-standing-over-yellow-background-2CFWRPP.jpg -> Annotation:/Users/mihokoda/Desktop/Github/Objec Detection/Tensorflow/workspace/images/collectedimages/thankyou/portrait-of-friendly-and-polite-asian-blond-guy-clasp-hands-together-in-namaste-gesture-bowing-and-greeting-person-standing-over-yellow-background-2CFWRPP.xml\n",
      "2024-06-01 10:16:53.389 python[83793:9225743] +[CATransaction synchronize] called within transaction\n",
      "Image:/Users/mihokoda/Desktop/Github/Objec Detection/Tensorflow/workspace/images/collectedimages/livelong/1000_F_284569248_cDWpumRw0kL52P5267qxiCmvvhWwmVnF.jpg -> Annotation:/Users/mihokoda/Desktop/Github/Objec Detection/Tensorflow/workspace/images/collectedimages/livelong/1000_F_284569248_cDWpumRw0kL52P5267qxiCmvvhWwmVnF.xml\n",
      "Image:/Users/mihokoda/Desktop/Github/Objec Detection/Tensorflow/workspace/images/collectedimages/livelong/How-Leonard-Nimoy-created-the-Vulcan-salute-150x150.jpg -> Annotation:/Users/mihokoda/Desktop/Github/Objec Detection/Tensorflow/workspace/images/collectedimages/livelong/How-Leonard-Nimoy-created-the-Vulcan-salute-150x150.xml\n",
      "Image:/Users/mihokoda/Desktop/Github/Objec Detection/Tensorflow/workspace/images/collectedimages/livelong/images.jpg -> Annotation:/Users/mihokoda/Desktop/Github/Objec Detection/Tensorflow/workspace/images/collectedimages/livelong/images.xml\n",
      "Image:/Users/mihokoda/Desktop/Github/Objec Detection/Tensorflow/workspace/images/collectedimages/livelong/images.png -> Annotation:/Users/mihokoda/Desktop/Github/Objec Detection/Tensorflow/workspace/images/collectedimages/livelong/images.xml\n",
      "Image:/Users/mihokoda/Desktop/Github/Objec Detection/Tensorflow/workspace/images/collectedimages/livelong/images.jpg -> Annotation:/Users/mihokoda/Desktop/Github/Objec Detection/Tensorflow/workspace/images/collectedimages/livelong/images.xml\n",
      "Image:/Users/mihokoda/Desktop/Github/Objec Detection/Tensorflow/workspace/images/collectedimages/livelong/images.png -> Annotation:/Users/mihokoda/Desktop/Github/Objec Detection/Tensorflow/workspace/images/collectedimages/livelong/images.xml\n",
      "Image:/Users/mihokoda/Desktop/Github/Objec Detection/Tensorflow/workspace/images/collectedimages/livelong/images.jpg -> Annotation:/Users/mihokoda/Desktop/Github/Objec Detection/Tensorflow/workspace/images/collectedimages/livelong/images.xml\n",
      "Image:/Users/mihokoda/Desktop/Github/Objec Detection/Tensorflow/workspace/images/collectedimages/livelong/images.png -> Annotation:/Users/mihokoda/Desktop/Github/Objec Detection/Tensorflow/workspace/images/collectedimages/livelong/images.xml\n",
      "Image:/Users/mihokoda/Desktop/Github/Objec Detection/Tensorflow/workspace/images/collectedimages/livelong/images.jpg -> Annotation:/Users/mihokoda/Desktop/Github/Objec Detection/Tensorflow/workspace/images/collectedimages/livelong/images.xml\n",
      "Cancel creation.\n",
      "Image:/Users/mihokoda/Desktop/Github/Objec Detection/Tensorflow/workspace/images/collectedimages/livelong/images.png -> Annotation:/Users/mihokoda/Desktop/Github/Objec Detection/Tensorflow/workspace/images/collectedimages/livelong/images.xml\n",
      "2024-06-01 10:20:32.663 python[83793:9225743] +[CATransaction synchronize] called within transaction\n",
      "Image:/Users/mihokoda/Desktop/Github/Objec Detection/Tensorflow/workspace/images/collectedimages/thumbsdown/businessman-makes-dislike-hand-sign-one-person-making-thumbs-down-hand-gestures-2E9CAG3.jpg -> Annotation:/Users/mihokoda/Desktop/Github/Objec Detection/Tensorflow/workspace/images/collectedimages/thumbsdown/businessman-makes-dislike-hand-sign-one-person-making-thumbs-down-hand-gestures-2E9CAG3.xml\n",
      "Image:/Users/mihokoda/Desktop/Github/Objec Detection/Tensorflow/workspace/images/collectedimages/thumbsdown/images-1.jpg -> Annotation:/Users/mihokoda/Desktop/Github/Objec Detection/Tensorflow/workspace/images/collectedimages/thumbsdown/images-1.xml\n",
      "Image:/Users/mihokoda/Desktop/Github/Objec Detection/Tensorflow/workspace/images/collectedimages/thumbsdown/images-2.jpg -> Annotation:/Users/mihokoda/Desktop/Github/Objec Detection/Tensorflow/workspace/images/collectedimages/thumbsdown/images-2.xml\n",
      "Image:/Users/mihokoda/Desktop/Github/Objec Detection/Tensorflow/workspace/images/collectedimages/thumbsdown/images-3.jpg -> Annotation:/Users/mihokoda/Desktop/Github/Objec Detection/Tensorflow/workspace/images/collectedimages/thumbsdown/images-3.xml\n",
      "Image:/Users/mihokoda/Desktop/Github/Objec Detection/Tensorflow/workspace/images/collectedimages/thumbsdown/images.jpg -> Annotation:/Users/mihokoda/Desktop/Github/Objec Detection/Tensorflow/workspace/images/collectedimages/thumbsdown/images.xml\n",
      "2024-06-01 10:21:23.015 python[83793:9225743] +[CATransaction synchronize] called within transaction\n",
      "Image:/Users/mihokoda/Desktop/Github/Objec Detection/Tensorflow/workspace/images/collectedimages/thumbsup/1000_F_129049833_NasdFg0NMEvCjOCzgYjdQRbKWGzvBuQO.jpg -> Annotation:/Users/mihokoda/Desktop/Github/Objec Detection/Tensorflow/workspace/images/collectedimages/thumbsup/1000_F_129049833_NasdFg0NMEvCjOCzgYjdQRbKWGzvBuQO.xml\n",
      "Image:/Users/mihokoda/Desktop/Github/Objec Detection/Tensorflow/workspace/images/collectedimages/thumbsup/104197873.webp -> Annotation:/Users/mihokoda/Desktop/Github/Objec Detection/Tensorflow/workspace/images/collectedimages/thumbsup/104197873.xml\n",
      "Image:/Users/mihokoda/Desktop/Github/Objec Detection/Tensorflow/workspace/images/collectedimages/thumbsup/images-1.jpg -> Annotation:/Users/mihokoda/Desktop/Github/Objec Detection/Tensorflow/workspace/images/collectedimages/thumbsup/images-1.xml\n",
      "Image:/Users/mihokoda/Desktop/Github/Objec Detection/Tensorflow/workspace/images/collectedimages/thumbsup/images.jpg -> Annotation:/Users/mihokoda/Desktop/Github/Objec Detection/Tensorflow/workspace/images/collectedimages/thumbsup/images.xml\n",
      "Image:/Users/mihokoda/Desktop/Github/Objec Detection/Tensorflow/workspace/images/collectedimages/thumbsup/istockphoto-162835092-612x612.jpg -> Annotation:/Users/mihokoda/Desktop/Github/Objec Detection/Tensorflow/workspace/images/collectedimages/thumbsup/istockphoto-162835092-612x612.xml\n",
      "2024-06-01 10:22:05.748 python[83793:9225743] +[CATransaction synchronize] called within transaction\n",
      "2024-06-01 10:22:07.119 python[83793:9225743] +[CATransaction synchronize] called within transaction\n",
      "2024-06-01 10:22:08.387 python[83793:9225743] +[CATransaction synchronize] called within transaction\n",
      "Image:/Users/mihokoda/Desktop/Github/Objec Detection/Tensorflow/workspace/images/collectedimages/livelong/images.jpg -> Annotation:/Users/mihokoda/Desktop/Github/Objec Detection/Tensorflow/workspace/images/collectedimages/livelong/images.xml\n",
      "Image:/Users/mihokoda/Desktop/Github/Objec Detection/Tensorflow/workspace/images/collectedimages/livelong/How-Leonard-Nimoy-created-the-Vulcan-salute-150x150.jpg -> Annotation:/Users/mihokoda/Desktop/Github/Objec Detection/Tensorflow/workspace/images/collectedimages/livelong/How-Leonard-Nimoy-created-the-Vulcan-salute-150x150.xml\n"
     ]
    },
    {
     "name": "stdout",
     "output_type": "stream",
     "text": [
      "2024-06-01 10:23:19.080 python[83793:9225743] +[CATransaction synchronize] called within transaction\n",
      "Image:/Users/mihokoda/Desktop/Github/Objec Detection/Tensorflow/workspace/images/collectedimages/livelong/1images.png -> Annotation:/Users/mihokoda/Desktop/Github/Objec Detection/Tensorflow/workspace/images/collectedimages/livelong/1images.xml\n",
      "Image:/Users/mihokoda/Desktop/Github/Objec Detection/Tensorflow/workspace/images/collectedimages/livelong/images.jpg -> Annotation:/Users/mihokoda/Desktop/Github/Objec Detection/Tensorflow/workspace/images/collectedimages/livelong/images.xml\n"
     ]
    }
   ],
   "source": [
    "!cd {LABELIMG_PATH} && python labelImg.py #open up"
   ]
  },
  {
   "cell_type": "markdown",
   "metadata": {},
   "source": [
    "# 6. Move them into a Training and Testing Partition"
   ]
  },
  {
   "cell_type": "markdown",
   "metadata": {},
   "source": [
    "# OPTIONAL - 7. Compress them for Colab Training"
   ]
  },
  {
   "cell_type": "code",
   "execution_count": 20,
   "metadata": {},
   "outputs": [],
   "source": [
    "TRAIN_PATH = os.path.join('Tensorflow', 'workspace', 'images', 'train')\n",
    "TEST_PATH = os.path.join('Tensorflow', 'workspace', 'images', 'test')\n",
    "ARCHIVE_PATH = os.path.join('Tensorflow', 'workspace', 'images', 'archive.tar.gz')"
   ]
  },
  {
   "cell_type": "code",
   "execution_count": 21,
   "metadata": {},
   "outputs": [],
   "source": [
    "!tar -czf {ARCHIVE_PATH} {TRAIN_PATH} {TEST_PATH}"
   ]
  },
  {
   "cell_type": "code",
   "execution_count": null,
   "metadata": {},
   "outputs": [],
   "source": []
  }
 ],
 "metadata": {
  "kernelspec": {
   "display_name": "Python 3 (ipykernel)",
   "language": "python",
   "name": "python3"
  },
  "language_info": {
   "codemirror_mode": {
    "name": "ipython",
    "version": 3
   },
   "file_extension": ".py",
   "mimetype": "text/x-python",
   "name": "python",
   "nbconvert_exporter": "python",
   "pygments_lexer": "ipython3",
   "version": "3.9.12"
  }
 },
 "nbformat": 4,
 "nbformat_minor": 2
}
